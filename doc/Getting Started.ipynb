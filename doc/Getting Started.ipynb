{
 "cells": [
  {
   "cell_type": "markdown",
   "metadata": {},
   "source": [
    "# Getting Started with Python\n",
    "## Hello, World\n",
    "It’s traditional when learning a new language to write a program that says hello to the world. It’s a very simple program, that\n",
    "uses Python’s `print` function to produce the output `Hello, world!`."
   ]
  },
  {
   "cell_type": "code",
   "execution_count": 4,
   "metadata": {},
   "outputs": [
    {
     "name": "stdout",
     "output_type": "stream",
     "text": [
      "Hello, world!\n"
     ]
    }
   ],
   "source": [
    "print('Hello, world!')"
   ]
  },
  {
   "cell_type": "markdown",
   "metadata": {},
   "source": [
    "## Getting Input\n",
    "It’s good to be able to get text input from the user (the person running the program), and\n",
    "save it in a variable. Here’s an example:"
   ]
  },
  {
   "cell_type": "code",
   "execution_count": 5,
   "metadata": {},
   "outputs": [
    {
     "name": "stdout",
     "output_type": "stream",
     "text": [
      "What is your favorite food? muffins\n"
     ]
    }
   ],
   "source": [
    "food = input('What is your favorite food? ')"
   ]
  },
  {
   "cell_type": "markdown",
   "metadata": {},
   "source": [
    "After this line of code runs, the `food` variable contains the response.\n",
    "\n",
    "### Getting Numeric Input\n",
    "The `input` function returns what the user entered as a type of data known as `string`.\n",
    "If you are expecting an integer (whole number), use the `int` function like this:"
   ]
  },
  {
   "cell_type": "code",
   "execution_count": 11,
   "metadata": {},
   "outputs": [
    {
     "name": "stdin",
     "output_type": "stream",
     "text": [
      "How many shields do you want to buy?  6\n"
     ]
    }
   ],
   "source": [
    "num_shields = int(input('How many shields do you want to buy? '))"
   ]
  },
  {
   "cell_type": "markdown",
   "metadata": {},
   "source": [
    "## Doing Different Things Depending on Input Received\n",
    "Maybe the program has a special message for people whose favorite food is muffins, and another message for others:"
   ]
  },
  {
   "cell_type": "code",
   "execution_count": 7,
   "metadata": {},
   "outputs": [
    {
     "name": "stdout",
     "output_type": "stream",
     "text": [
      "Yes, muffins are great!\n"
     ]
    }
   ],
   "source": [
    "if food == 'muffins':\n",
    "    print('Yes, muffins are great!')\n",
    "else:\n",
    "    print('OK.')"
   ]
  },
  {
   "cell_type": "markdown",
   "metadata": {},
   "source": [
    "Here’s a shorter way to write that code:"
   ]
  },
  {
   "cell_type": "code",
   "execution_count": 8,
   "metadata": {},
   "outputs": [
    {
     "name": "stdout",
     "output_type": "stream",
     "text": [
      "Yes, muffins are great!\n"
     ]
    }
   ],
   "source": [
    "print('Yes, muffins are great!' if food == 'muffins' else 'OK.')"
   ]
  },
  {
   "cell_type": "code",
   "execution_count": 12,
   "metadata": {},
   "outputs": [
    {
     "name": "stdout",
     "output_type": "stream",
     "text": [
      "Sorry, you can buy only up to five shields at a time.\n"
     ]
    }
   ],
   "source": [
    "if num_shields > 5:\n",
    "    print('Sorry, you can buy only up to five shields at a time.')"
   ]
  },
  {
   "cell_type": "markdown",
   "source": [
    "## Changing the Value of a Variable\n",
    "\n",
    "Let’s say your health starts at 100. We’ll use the assignment operator (=) to create a variable called `health` and give it a value of 100."
   ],
   "metadata": {
    "collapsed": false
   }
  },
  {
   "cell_type": "code",
   "execution_count": null,
   "outputs": [],
   "source": [
    "health = 100"
   ],
   "metadata": {
    "collapsed": false,
    "pycharm": {
     "name": "#%%\n"
    }
   }
  },
  {
   "cell_type": "markdown",
   "source": [
    "Now, suppose something happens in the game that reduces your health. We can reduce the value in two ways:"
   ],
   "metadata": {
    "collapsed": false
   }
  },
  {
   "cell_type": "code",
   "execution_count": null,
   "outputs": [],
   "source": [
    "health -= 10\n",
    "print(health)"
   ],
   "metadata": {
    "collapsed": false,
    "pycharm": {
     "name": "#%%\n"
    }
   }
  },
  {
   "cell_type": "markdown",
   "source": [
    "Or in this longer form:"
   ],
   "metadata": {
    "collapsed": false
   }
  },
  {
   "cell_type": "code",
   "execution_count": null,
   "outputs": [],
   "source": [
    "health = health - 10\n",
    "print(health)"
   ],
   "metadata": {
    "collapsed": false,
    "pycharm": {
     "name": "#%%\n"
    }
   }
  },
  {
   "cell_type": "markdown",
   "metadata": {},
   "source": [
    "### Creating a Function that Takes an Input and Returns a Result"
   ]
  },
  {
   "cell_type": "code",
   "execution_count": 26,
   "metadata": {},
   "outputs": [],
   "source": [
    "health = 100"
   ]
  },
  {
   "cell_type": "markdown",
   "metadata": {},
   "source": [
    "Now, suppose something happens in the game that reduces your health. We can reduce the value in two ways:"
   ]
  },
  {
   "cell_type": "code",
   "execution_count": 27,
   "metadata": {},
   "outputs": [
    {
     "name": "stdout",
     "output_type": "stream",
     "text": [
      "90\n"
     ]
    }
   ],
   "source": [
    "health -= 10\n",
    "print(health)"
   ]
  },
  {
   "cell_type": "markdown",
   "metadata": {},
   "source": [
    "Or in this longer form:"
   ]
  },
  {
   "cell_type": "code",
   "execution_count": 28,
   "metadata": {},
   "outputs": [
    {
     "name": "stdout",
     "output_type": "stream",
     "text": [
      "80\n"
     ]
    }
   ],
   "source": [
    "health = health - 10\n",
    "print(health)"
   ]
  },
  {
   "cell_type": "markdown",
   "metadata": {},
   "source": [
    "### Creating a Function that Takes an Input and Returns a Result"
   ]
  },
  {
   "cell_type": "code",
   "execution_count": 10,
   "metadata": {},
   "outputs": [
    {
     "name": "stdout",
     "output_type": "stream",
     "text": [
      "What is the temperature in Celsius? 22\n",
      "In old fashioned Fahrenheit degrees, that is 71.6\n"
     ]
    }
   ],
   "source": [
    "def celsius_to_fahrenheit(celsius_temp: float) -> float:\n",
    "    return celsius_temp * 1.8 + 32\n",
    "\n",
    "celsius_temp = float(input('What is the temperature in Celsius? '))\n",
    "fahrenheit_temp = celsius_to_fahrenheit(celsius_temp)\n",
    "print(f'In old fashioned Fahrenheit degrees, that is {fahrenheit_temp}')"
   ]
  },
  {
   "cell_type": "markdown",
   "metadata": {},
   "source": [
    "### Terms Related to Defining and Calling Functions\n",
    "<br/>\n",
    "<dl>\n",
    "    <dt>function</dt>\n",
    "    <dd>a block of code that may have inputs and may return a value</dd>\n",
    "</dl>\n",
    "<dl>\n",
    "    <dt>parameter</dt>\n",
    "    <dd>an input to the function</dd>\n",
    "</dl>\n",
    "<dl>\n",
    "    <dt>parameter list</dt>\n",
    "    <dd>a comma-separated list of parameters inside parentheses following the\n",
    "    name of the function on the line where the function is defined (with def)</dd>\n",
    "</dl>\n",
    "<dl>\n",
    "    <dt>typing hint</dt>\n",
    "    <dd>a way to say what type a thing is</dd>\n",
    "</dl>\n",
    "<dl>\n",
    "    <dt>return value</dt>\n",
    "    <dd>a value returned from a function</dd>\n",
    "</dl>\n",
    "<dl>\n",
    "    <dt>argument</dt>\n",
    "    <dd>an actual value passed to a function in a function call,\n",
    "    inside the parentheses that follow the name of the function</dd>\n",
    "</dl>\n",
    "<dl>\n",
    "    <dt>function call</dt>\n",
    "    <dd>the name of the function followed by a pair of parentheses that surround the zero or more comma-separated arguments</dd>\n",
    "</dl>\n"
   ]
  },
  {
   "cell_type": "markdown",
   "metadata": {},
   "source": [
    "### Using a Dictionary to Retrieve a Different Message for Each Known Person"
   ]
  },
  {
   "cell_type": "code",
   "execution_count": 11,
   "metadata": {},
   "outputs": [
    {
     "name": "stdout",
     "output_type": "stream",
     "text": [
      "What is your name? saM\n",
      "Hey, little brother!\n"
     ]
    }
   ],
   "source": [
    "messages = {\n",
    "    'sam':   'Hey, little brother!',\n",
    "    'fred':  'Congrats on the new lawn-mowing job.',\n",
    "    'betty': \"Where's that five dollars you owe me?\",\n",
    "}\n",
    "\n",
    "name = input('What is your name? ')\n",
    "nameLower = name.lower()\n",
    "\n",
    "if nameLower in messages:\n",
    "    print(messages[nameLower])\n",
    "else:\n",
    "    print(\"I don't know any \" + name)"
   ]
  },
  {
   "cell_type": "markdown",
   "metadata": {},
   "source": [
    "### Using a Tuple and `in` to Identify “Happy” Words"
   ]
  },
  {
   "cell_type": "code",
   "execution_count": 12,
   "metadata": {},
   "outputs": [
    {
     "name": "stdout",
     "output_type": "stream",
     "text": [
      "How are you feeling? SUPer\n",
      "That's great!\n"
     ]
    }
   ],
   "source": [
    "cond = input('How are you feeling? ')\n",
    "happy_words = ('fine', 'good', 'great', 'super')\n",
    "if cond.lower() in happy_words:\n",
    "    print(\"That's great!\")"
   ]
  },
  {
   "cell_type": "markdown",
   "metadata": {},
   "source": [
    "## Simulations\n",
    "It can be fun to simulate things, like flipping a coin many times."
   ]
  },
  {
   "cell_type": "code",
   "execution_count": 13,
   "metadata": {},
   "outputs": [
    {
     "name": "stdout",
     "output_type": "stream",
     "text": [
      "There were 54 heads and 46 tails\n"
     ]
    }
   ],
   "source": [
    "from random import randint\n",
    "\n",
    "numHeads = 0\n",
    "numTails = 0\n",
    "\n",
    "for t in range(100):\n",
    "    if randint(1, 2) == 1:\n",
    "        numHeads += 1\n",
    "    else:\n",
    "        numTails += 1\n",
    "        \n",
    "print('There were %s heads and %s tails' % (numHeads, numTails))"
   ]
  },
  {
   "cell_type": "markdown",
   "metadata": {},
   "source": [
    "## Guessing Games\n",
    "In this program, the player guesses the number the computer chooses randomly."
   ]
  },
  {
   "cell_type": "code",
   "execution_count": 14,
   "metadata": {},
   "outputs": [
    {
     "name": "stdout",
     "output_type": "stream",
     "text": [
      "\n",
      "Welcome to the high-low guessing game.\n",
      "I am thinking of an integer between 1 and 100.\n",
      "\n",
      "What is your guess? 50\n",
      "Too high\n",
      "What is your guess? 25\n",
      "Too high\n",
      "What is your guess? 12\n",
      "Too low\n",
      "What is your guess? 18\n",
      "Too high\n",
      "What is your guess? 15\n",
      "You found the number in 5 guesses\n"
     ]
    }
   ],
   "source": [
    "from random import randint\n",
    "print('''\n",
    "Welcome to the high-low guessing game.\n",
    "I am thinking of an integer between 1 and 100.\n",
    "''')\n",
    "\n",
    "guess = 0\n",
    "guesses = 0\n",
    "number = randint(1, 100)\n",
    "\n",
    "while guess != number:\n",
    "    guesses += 1\n",
    "    guess = int(input('What is your guess? '))\n",
    "\n",
    "    if guess > number:\n",
    "        print('Too high')\n",
    "    elif guess < number:\n",
    "        print('Too low')\n",
    "\n",
    "print('You found the number in', guesses, 'guesses')"
   ]
  },
  {
   "cell_type": "markdown",
   "metadata": {},
   "source": [
    "## Math Games\n",
    "Here, the program gives math problems, for quick mental math practice."
   ]
  },
  {
   "cell_type": "code",
   "execution_count": null,
   "metadata": {},
   "outputs": [],
   "source": [
    "from random import randint\n",
    "from time import time\n",
    "\n",
    "print('Enjoy a math quiz, and respond with nothing to stop.')\n",
    "\n",
    "while True:\n",
    "    m1 = randint(2, 11)\n",
    "    m2 = randint(2, 11)\n",
    "    product = m1 * m2\n",
    "    start_time = time()\n",
    "    response = input('What is %d * %d ' % (m1, m2))\n",
    "    if not response.strip():\n",
    "        break\n",
    "    answer = int(response)\n",
    "\n",
    "    if answer == product:\n",
    "        print('Right, in %.2f seconds' % (time() - start_time))\n",
    "    else:\n",
    "        print('Wrong, the answer was %d' % product)"
   ]
  },
  {
   "cell_type": "markdown",
   "metadata": {},
   "source": [
    "## A Music Quiz\n",
    "This program asks questions about music."
   ]
  },
  {
   "cell_type": "code",
   "execution_count": null,
   "metadata": {},
   "outputs": [],
   "source": [
    "from random import shuffle\n",
    "print('Welcome to the wonderful quiz on music!')\n",
    "\n",
    "qas = [\n",
    "    ('How many beats are there per measure in 2/4 time?', '2'),\n",
    "    ('In what family of instruments is the piano?', 'percussion'),\n",
    "    ('How many strings does a violin have?', '4')\n",
    "]\n",
    "shuffle(qas)\n",
    "numRight = 0\n",
    "wrong = []\n",
    "\n",
    "numQuestions = int(input(\"How many questions? \"))\n",
    "\n",
    "for question, rightAnswer in qas[:numQuestions]:\n",
    "    answer = input(question + ' ')\n",
    "    if answer.lower() == rightAnswer:\n",
    "        print('Right!')\n",
    "        numRight += 1\n",
    "    else:\n",
    "        print('No, the answer is %s.' % rightAnswer)\n",
    "        wrong.append(question)\n",
    "\n",
    "print('You got %d right and the following wrong:' % (numRight))\n",
    "for q in wrong:\n",
    "    print(q)"
   ]
  },
  {
   "cell_type": "markdown",
   "metadata": {},
   "source": [
    "## Text Adventure Games\n",
    "Here is a very simple starting point for an adventure game:"
   ]
  },
  {
   "cell_type": "code",
   "execution_count": null,
   "metadata": {},
   "outputs": [],
   "source": [
    "from random import choice, randint\n",
    "\n",
    "transitions = {\n",
    "    'airstrip': ('forest',),\n",
    "    'forest':   ('airstrip', 'cave'),\n",
    "    'cave':     ('forest', 'meadow'),\n",
    "    'meadow':   ('cave',),\n",
    "}\n",
    "places = tuple(transitions.keys())\n",
    "place = choice(places)\n",
    "alive = True\n",
    "\n",
    "while alive:\n",
    "    print('You are at the', place)\n",
    "    destinations = transitions[place]\n",
    "    print('From here you can go to', ', '.join(destinations))\n",
    "    new_place = input('Where would you like to go? ')\n",
    "    if new_place == 'quit':\n",
    "        break\n",
    "    else:\n",
    "        if new_place in destinations:\n",
    "            if randint(1, 10) == 1:\n",
    "                print('You were struck by lightning. Game over.')\n",
    "                alive = False\n",
    "            else:\n",
    "                place = new_place\n",
    "                if place == 'meadow':\n",
    "                    if randint(1, 3) == 1:\n",
    "                        print('You fell in a hole and you are stuck.')\n",
    "                        alive = False\n",
    "                    elif randint(1, 3) == 1:\n",
    "                        print('You discover an amazing treasure!')\n",
    "        else:\n",
    "            print(\"You can't go there.\")"
   ]
  }
 ],
 "metadata": {
  "kernelspec": {
   "display_name": "Python 3",
   "language": "python",
   "name": "python3"
  },
  "language_info": {
   "codemirror_mode": {
    "name": "ipython",
    "version": 3
   },
   "file_extension": ".py",
   "mimetype": "text/x-python",
   "name": "python",
   "nbconvert_exporter": "python",
   "pygments_lexer": "ipython3",
   "version": "3.8.1"
  }
 },
 "nbformat": 4,
 "nbformat_minor": 4
}